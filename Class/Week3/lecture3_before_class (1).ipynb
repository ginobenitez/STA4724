{
 "cells": [
  {
   "cell_type": "markdown",
   "metadata": {},
   "source": [
    "# Lecture 3\n",
    "1. Removing elements from a list using del\n",
    "2. Tuples and Sets\n",
    "3. Relative efficiency of map, list comprehension and for loops\n",
    "4. Handling exceptions\n",
    "5. Import definitions from modules\n",
    "\n",
    "Reading material: [Python tutorial](https://docs.python.org/3.9/tutorial/) 5.2 - 5.4, 6.1, 8.1 - 8.4"
   ]
  },
  {
   "cell_type": "markdown",
   "metadata": {},
   "source": [
    "## 1. The __del__ statement\n",
    "The __del__ method is used to remove an item, slices, or clear the entire list."
   ]
  },
  {
   "cell_type": "code",
   "execution_count": null,
   "metadata": {},
   "outputs": [],
   "source": [
    "a = list(range(5))\n",
    "print(a)\n",
    "\n",
    "del a[2]\n",
    "print(a)\n",
    "\n",
    "del a[1:3]\n",
    "print(a)\n",
    "\n",
    "del a[:]\n",
    "print(a)\n",
    "\n",
    "del a\n",
    "print(a)"
   ]
  },
  {
   "cell_type": "markdown",
   "metadata": {
    "collapsed": true
   },
   "source": [
    "## 2. Tuples and Sets"
   ]
  },
  {
   "cell_type": "markdown",
   "metadata": {},
   "source": [
    "__Tuples__ are immutable, and usually contain a heterogeneous sequence of elements that are accessed via unpacking or indexing. \n",
    "__Lists__ are mutable, and their elements are usually homogeneous and are accessed by iterating over the list."
   ]
  },
  {
   "cell_type": "code",
   "execution_count": null,
   "metadata": {},
   "outputs": [],
   "source": [
    "x = (3,'a',[1,2,3],[[4,5],[6,7]])\n",
    "a,b,c,d = x # tuple unpacking\n",
    "print(b)\n",
    "print(x[2])"
   ]
  },
  {
   "cell_type": "code",
   "execution_count": null,
   "metadata": {},
   "outputs": [],
   "source": [
    "a, b, _, d = x\n",
    "print(a)\n",
    "print(b)\n",
    "print(d)"
   ]
  },
  {
   "cell_type": "code",
   "execution_count": null,
   "metadata": {},
   "outputs": [],
   "source": [
    "def myFun(x, y):\n",
    "    return x + y, x - y # implicit tuple packing\n",
    "\n",
    "o1, o2 = myFun(1,2) # tuple unpacking\n",
    "\n",
    "print(o1)\n",
    "print(o2)\n",
    "\n",
    "# o3 = myFun(1,2)\n",
    "# print(o3)"
   ]
  },
  {
   "cell_type": "code",
   "execution_count": null,
   "metadata": {},
   "outputs": [],
   "source": [
    "# How would you do a value swap between two variables?\n",
    "var1 = 1\n",
    "var2 = 100\n",
    "\n",
    "temp = var1\n",
    "var1 = var2\n",
    "var2 = temp\n",
    "print(var1, var2)"
   ]
  },
  {
   "cell_type": "code",
   "execution_count": null,
   "metadata": {},
   "outputs": [],
   "source": [
    "var1 = 1\n",
    "var2 = 100\n",
    "\n",
    "var1, var2 = var2, var1\n",
    "print(var1, var2)"
   ]
  },
  {
   "cell_type": "code",
   "execution_count": null,
   "metadata": {},
   "outputs": [],
   "source": [
    "a = var1, var2\n",
    "print(a)"
   ]
  },
  {
   "cell_type": "markdown",
   "metadata": {},
   "source": [
    "__Let's do some interaction__"
   ]
  },
  {
   "cell_type": "code",
   "execution_count": null,
   "metadata": {},
   "outputs": [],
   "source": [
    "age = input(\"How old are you? \")\n",
    "height = input(\"How tall are you? \")\n",
    "x = age, height #tuple packing\n",
    "print(\"So, you're %s old, %s tall.\" % x)"
   ]
  },
  {
   "cell_type": "code",
   "execution_count": null,
   "metadata": {},
   "outputs": [],
   "source": [
    "print(\"So, you're {} old, {} tall.\".format(*x))\n",
    "print(\"So, you're {} old, {} tall.\".format(age, height))"
   ]
  },
  {
   "cell_type": "markdown",
   "metadata": {},
   "source": [
    "Read about [String Formatting](https://www.delftstack.com/howto/python/python-print-variable/) and [Unpacking Operator](https://towardsdatascience.com/unpacking-operators-in-python-306ae44cd480)"
   ]
  },
  {
   "cell_type": "markdown",
   "metadata": {},
   "source": [
    "A __Set__ is an unordered collection of items. Every element is unique (no duplicates) and must be immutable (which cannot be changed). However, the set itself is mutable. We can add or remove items from it.\n",
    "\n"
   ]
  },
  {
   "cell_type": "code",
   "execution_count": null,
   "metadata": {},
   "outputs": [],
   "source": [
    "my_set = {1,2,3,4,3,2}\n",
    "print(my_set)"
   ]
  },
  {
   "cell_type": "code",
   "execution_count": null,
   "metadata": {},
   "outputs": [],
   "source": [
    "my_set[1]   # error, no indexing in sets\n",
    "\n",
    "print(1 in my_set)\n",
    "print(100 in my_set)\n",
    "\n",
    "#for el in my_set:\n",
    "#    print(el)"
   ]
  },
  {
   "cell_type": "code",
   "execution_count": null,
   "metadata": {},
   "outputs": [],
   "source": [
    "my_set2 = {[1,2], 3,4}    # error, set cannot have mutable items\n"
   ]
  },
  {
   "cell_type": "code",
   "execution_count": null,
   "metadata": {},
   "outputs": [],
   "source": [
    "set2 = set([1,2,3,4,3,2])\n",
    "print(type(set2))\n",
    "print(set2)"
   ]
  },
  {
   "cell_type": "markdown",
   "metadata": {},
   "source": [
    "__How to update a set in Python:__\n"
   ]
  },
  {
   "cell_type": "code",
   "execution_count": null,
   "metadata": {},
   "outputs": [],
   "source": [
    "my_set = {1,2,3}\n",
    "my_set.add(4)\n",
    "print(my_set)\n",
    "\n",
    "my_set.update([5,6,7])\n",
    "print(my_set)\n",
    "\n",
    "my_set.remove(6)\n",
    "print(my_set)"
   ]
  },
  {
   "cell_type": "markdown",
   "metadata": {},
   "source": [
    "__Exercise__: Determine the number of unique letters in \"supercalifragilisticexpialidocious\" using a set."
   ]
  },
  {
   "cell_type": "code",
   "execution_count": null,
   "metadata": {},
   "outputs": [],
   "source": [
    "word = \"supercalifragilisticexpialidocious\"\n",
    "print(list(word))\n",
    "print(set(word))\n",
    "print(len(set(word)))"
   ]
  },
  {
   "cell_type": "markdown",
   "metadata": {
    "collapsed": true
   },
   "source": [
    "## 3. Maps\n",
    "One of the common things we do with list and other sequences is applying an operation to each item and collect the result. For example, we can update all the items in a list with a __for__ loop or __list comprehension__. "
   ]
  },
  {
   "cell_type": "code",
   "execution_count": null,
   "metadata": {},
   "outputs": [],
   "source": [
    "x = [1,2,3,4,5]\n",
    "y = []\n",
    "for i in x:\n",
    "    y.append(i**2)\n",
    "print(y)\n",
    "\n",
    "y = [i**2 for i in x]\n",
    "print(y)"
   ]
  },
  {
   "cell_type": "markdown",
   "metadata": {},
   "source": [
    "There is another built-in feature that is very helpful: __map__. \n",
    "\n",
    "The __map(myFunction, mySequence)__ applies a passed-in function to each item in an iterable object and returns an __iterator__ containing all the function call results."
   ]
  },
  {
   "cell_type": "code",
   "execution_count": null,
   "metadata": {},
   "outputs": [],
   "source": [
    "x = [1,2,3,4,5]\n",
    "def f(x):\n",
    "    return x**2\n",
    "m = map(f,x)\n",
    "print(type(m))\n",
    "print(m)\n",
    "print(list(m))"
   ]
  },
  {
   "cell_type": "markdown",
   "metadata": {},
   "source": [
    "__map()__ expects a function to be passed in. This is where __lambda__ routinely appears."
   ]
  },
  {
   "cell_type": "code",
   "execution_count": null,
   "metadata": {},
   "outputs": [],
   "source": [
    "x = [1,2,3,4,5]\n",
    "m = map(lambda t: t**2, x)\n",
    "print(list(m))"
   ]
  },
  {
   "cell_type": "markdown",
   "metadata": {},
   "source": [
    "We can also use __map()__ on multiple sequences, where corresponding item from each sequence will be passed."
   ]
  },
  {
   "cell_type": "code",
   "execution_count": null,
   "metadata": {},
   "outputs": [],
   "source": [
    "# map(myFunction, mySequence1, mySequence2, ...)\n",
    "x1 = [1,2,3,4,5]\n",
    "x2 = [2,3,4,5,6]\n",
    "# m = map(lambda t,s: t+s, x1, x2)\n",
    "m = map(lambda t,s: t*s, x1, x2)\n",
    "# print(list(m))\n",
    "for el in m:\n",
    "    print(el)"
   ]
  },
  {
   "cell_type": "markdown",
   "metadata": {},
   "source": [
    "#### Efficiency of map, list comprehension and for loops. \n",
    "To compare relative efficiency of multiple approaches to a given task, let's time code segment execution using the time module."
   ]
  },
  {
   "cell_type": "code",
   "execution_count": null,
   "metadata": {},
   "outputs": [],
   "source": [
    "import time\n",
    "begin = time.time() #record start time\n",
    "#your code goes here\n",
    "end = time.time() # record end time\"\n",
    "print(end - begin) #calculate difference (elapsed time)"
   ]
  },
  {
   "cell_type": "markdown",
   "metadata": {},
   "source": [
    "Consider the following code to generate a list of the squares of N integers:"
   ]
  },
  {
   "cell_type": "code",
   "execution_count": null,
   "metadata": {},
   "outputs": [],
   "source": [
    "N = 10000000\n",
    "x = list(range(N))\n",
    "y = []\n",
    "t1 = time.time()\n",
    "for i in x:\n",
    "    y.append(i**2)\n",
    "t2 = time.time()\n",
    "print(\"Appending to an empty list\", t2 - t1)\n",
    "\n",
    "y = x\n",
    "t1 = time.time()\n",
    "for i in x:\n",
    "    y[i] = i**2\n",
    "t2 = time.time()\n",
    "print(\"Updating an existing list\", t2 - t1)"
   ]
  },
  {
   "cell_type": "markdown",
   "metadata": {},
   "source": [
    "__Tip #1__: when possible, re-using an existing list in a for loop is usually faster than appending to an empty list"
   ]
  },
  {
   "cell_type": "code",
   "execution_count": null,
   "metadata": {},
   "outputs": [],
   "source": [
    "N = 10000000\n",
    "x = list(range(N))\n",
    "def f(x):\n",
    "    return x**2\n",
    "\n",
    "y = x\n",
    "t1 = time.time()\n",
    "y = [f(i) for i in x]\n",
    "t2 = time.time()\n",
    "print(\"with list comprehension\", t2 - t1)\n",
    "\n",
    "y = x\n",
    "t1 = time.time()\n",
    "for i in x:\n",
    "    y[i] = f(i)\n",
    "t2 = time.time()\n",
    "print(\"with for loop\", t2 - t1)"
   ]
  },
  {
   "cell_type": "markdown",
   "metadata": {},
   "source": [
    "__Tip #2__: when you only need to perform a single function call in a for loop, it is faster to use list comprehension "
   ]
  },
  {
   "cell_type": "code",
   "execution_count": null,
   "metadata": {},
   "outputs": [],
   "source": [
    "N = 10000000\n",
    "x = list(range(N))\n",
    "def f(x):\n",
    "    return x**2\n",
    "\n",
    "y = x\n",
    "t1 = time.time()\n",
    "y = [f(i) for i in x]\n",
    "t2 = time.time()\n",
    "print(\"with list comprehension\", t2 - t1)\n",
    "\n",
    "t1 = time.time()\n",
    "# y = list(map(f,x))\n",
    "y = map(f,x)\n",
    "t2 = time.time()\n",
    "print(\"with map\", t2 - t1)\n"
   ]
  },
  {
   "cell_type": "markdown",
   "metadata": {},
   "source": [
    "__Tip #3__: it is faster to use map than list comprehension when the operation you need to perform requires a single function call."
   ]
  },
  {
   "cell_type": "markdown",
   "metadata": {},
   "source": [
    "## 4. Handling exceptions\n",
    "An __exception__ is an error that you get from some function you may have run. What happens is your function \"raises\" an exception when it encounters an error, then you have to handle the exception. This is different from __Syntax Errors__.\n",
    "\n",
    "For example, say you type this into Python:"
   ]
  },
  {
   "cell_type": "code",
   "execution_count": null,
   "metadata": {},
   "outputs": [],
   "source": [
    "int(\"hello\")"
   ]
  },
  {
   "cell_type": "markdown",
   "metadata": {},
   "source": [
    "That _ValueError_ is an exception that the _int()_ function threw because what you handed _int()_ is not a number. The _int()_ function could have returned a value to tell you it had an error, but since it only returns integers, it is difficult to do that. Instead of trying to figure out what to return when there's an error, the _int()_ function raises the _ValueError_ exception and you deal with it.\n",
    "\n",
    "You deal with an exception by using the __try__ and __except__ keywords:"
   ]
  },
  {
   "cell_type": "code",
   "execution_count": null,
   "metadata": {},
   "outputs": [],
   "source": [
    "def convert_number(s):\n",
    "    try:\n",
    "        return int(s)\n",
    "    except ValueError:\n",
    "        return \"Non-numeric data found\""
   ]
  },
  {
   "cell_type": "markdown",
   "metadata": {},
   "source": [
    "You put the code you want to \"try\" inside the try block, and then you put the code to run for the error inside the except. In this case, we want to \"try\" to call _int_() on something that might be a number. If that has an error, then we \"catch\" it and return None."
   ]
  },
  {
   "cell_type": "code",
   "execution_count": null,
   "metadata": {},
   "outputs": [],
   "source": [
    "convert_number(\"hello\")"
   ]
  },
  {
   "cell_type": "code",
   "execution_count": null,
   "metadata": {},
   "outputs": [],
   "source": [
    "convert_number(3.5)"
   ]
  },
  {
   "cell_type": "markdown",
   "metadata": {},
   "source": [
    "Here's another example:"
   ]
  },
  {
   "cell_type": "code",
   "execution_count": null,
   "metadata": {},
   "outputs": [],
   "source": [
    "while True:\n",
    "    try: \n",
    "        s = float(input(\"Please enter a number: \"))\n",
    "        break\n",
    "    except ValueError:\n",
    "        print(\"Oops!  That was no valid number.  Try again...\")"
   ]
  },
  {
   "cell_type": "markdown",
   "metadata": {},
   "source": [
    "[Built-in Exceptions](https://docs.python.org/3.9/library/exceptions.html#bltin-exceptions) lists the built-in exceptions and their meanings.\n",
    "Some of the common exception errors are:\n",
    "\n",
    "IOError\n",
    "If the file cannot be opened.\n",
    "\n",
    "ImportError\n",
    "If python cannot find the module\n",
    "\n",
    "ValueError\n",
    "Raised when a built-in operation or function receives an argument that has the\n",
    "right type but an inappropriate value\n",
    "\n",
    "KeyboardInterrupt\n",
    "Raised when the user hits the interrupt key (normally Control-C or Delete)\n",
    "\n",
    "EOFError\n",
    "Raised when one of the built-in functions (`input()`) hits an\n",
    "end-of-file condition (EOF) without reading any data\n",
    "\n",
    "NameError\n",
    "Raised when a local or global name is not found."
   ]
  },
  {
   "cell_type": "code",
   "execution_count": null,
   "metadata": {},
   "outputs": [],
   "source": [
    "5/0"
   ]
  },
  {
   "cell_type": "code",
   "execution_count": null,
   "metadata": {},
   "outputs": [],
   "source": [
    "\"abc\"/10"
   ]
  },
  {
   "cell_type": "code",
   "execution_count": null,
   "metadata": {},
   "outputs": [],
   "source": [
    "def divide(x, y):\n",
    "    try:\n",
    "        return x/y\n",
    "    except ZeroDivisionError as ze:\n",
    "        return ze\n",
    "    except TypeError as te:\n",
    "        return te"
   ]
  },
  {
   "cell_type": "code",
   "execution_count": null,
   "metadata": {},
   "outputs": [],
   "source": [
    "divide(5, 2.0)"
   ]
  },
  {
   "cell_type": "code",
   "execution_count": null,
   "metadata": {},
   "outputs": [],
   "source": [
    "divide(5, 0)"
   ]
  },
  {
   "cell_type": "code",
   "execution_count": null,
   "metadata": {},
   "outputs": [],
   "source": [
    "divide(\"abc\", 10)"
   ]
  },
  {
   "cell_type": "markdown",
   "metadata": {},
   "source": [
    "## 5. Import definitions from modules"
   ]
  },
  {
   "cell_type": "code",
   "execution_count": null,
   "metadata": {},
   "outputs": [],
   "source": [
    "print(pi)"
   ]
  },
  {
   "cell_type": "code",
   "execution_count": null,
   "metadata": {},
   "outputs": [],
   "source": [
    "import math\n",
    "print(math.pi)"
   ]
  },
  {
   "cell_type": "code",
   "execution_count": null,
   "metadata": {},
   "outputs": [],
   "source": [
    "import math as m\n",
    "print(m.pi) # This is convenient when packages have long names"
   ]
  },
  {
   "cell_type": "markdown",
   "metadata": {},
   "source": [
    "### More on getting things from things\n",
    "\n",
    "Imagine if we have a module that we decide to name `mystuff.py`, and if we put a function in it called `apple` . Here's the module `mystuff.py`:\n",
    "\n",
    "```\n",
    "def apple( ):\n",
    "    print(\"I am apples!\")\n",
    "```\n",
    "\n",
    "Once we have that, we can use that module with import and then access the apple function:\n",
    "\n",
    "```\n",
    "import mystuff\n",
    "mystuff.apple( )\n",
    "```"
   ]
  },
  {
   "cell_type": "code",
   "execution_count": null,
   "metadata": {},
   "outputs": [],
   "source": [
    "import mystuff as ms"
   ]
  },
  {
   "cell_type": "code",
   "execution_count": null,
   "metadata": {},
   "outputs": [],
   "source": [
    "ms.apple()"
   ]
  },
  {
   "cell_type": "code",
   "execution_count": null,
   "metadata": {},
   "outputs": [],
   "source": [
    "%load mystuff.py"
   ]
  },
  {
   "cell_type": "code",
   "execution_count": null,
   "metadata": {},
   "outputs": [],
   "source": []
  }
 ],
 "metadata": {
  "kernelspec": {
   "display_name": "Python 3 (ipykernel)",
   "language": "python",
   "name": "python3"
  },
  "language_info": {
   "codemirror_mode": {
    "name": "ipython",
    "version": 3
   },
   "file_extension": ".py",
   "mimetype": "text/x-python",
   "name": "python",
   "nbconvert_exporter": "python",
   "pygments_lexer": "ipython3",
   "version": "3.9.12"
  }
 },
 "nbformat": 4,
 "nbformat_minor": 2
}
