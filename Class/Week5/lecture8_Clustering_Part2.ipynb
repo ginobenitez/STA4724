{
 "cells": [
  {
   "cell_type": "markdown",
   "id": "de7f9edb",
   "metadata": {},
   "source": [
    "# Lecture 8: Clustering Part 2"
   ]
  },
  {
   "cell_type": "markdown",
   "id": "9b1a3423",
   "metadata": {},
   "source": [
    "#### Step 1: Generate a clustering problem\n",
    "```\n",
    "make_blobs from sklearn.datasets\n",
    "\n",
    "Parameters:\n",
    "    n_samples:    The total number of points. default=100\n",
    "    center:       The number of centers (clusters) to generate. default=None\n",
    "    cluster_std:  The standard deviation of the clusters. default=1.0\n",
    "    random_state: The random seed. default=None\n",
    "    \n",
    "Output:\n",
    "    X:            Datasets. Each row of X is a 2-D point.\n",
    "    y_true:       True cluster label for each point. (We aren't using it today.) \n",
    "```"
   ]
  },
  {
   "cell_type": "code",
   "execution_count": null,
   "id": "c1f6ec9a",
   "metadata": {},
   "outputs": [],
   "source": [
    "from sklearn.datasets import make_blobs\n",
    "import matplotlib.pyplot as plt\n",
    "\n",
    "X, y_true = make_blobs(n_samples=300, centers=4, cluster_std=0.5, random_state=0)\n",
    "\n",
    "# Plot the dataset X\n",
    "plt.scatter(X[:, 0], X[:, 1]);"
   ]
  },
  {
   "cell_type": "markdown",
   "id": "b5ef7e2e",
   "metadata": {},
   "source": [
    "#### Set up *K*-Means Algorithm\n",
    "```\n",
    "KMeans from sklearn.cluster\n",
    "\n",
    "Parameters:\n",
    "    n_clusters:   The number of clusters, i.e., K. default=8\n",
    "    n_init:       The number of different initializations to try. default=10 \n",
    "```\n",
    "\n",
    "For complete list of parameters, read the offical document website: \n",
    "https://scikit-learn.org/stable/modules/generated/sklearn.cluster.KMeans.html\n"
   ]
  },
  {
   "cell_type": "code",
   "execution_count": null,
   "id": "46ad1f28",
   "metadata": {},
   "outputs": [],
   "source": [
    "from sklearn.cluster import KMeans\n",
    "kmeans = KMeans(n_clusters=3, n_init=20)\n",
    "\n",
    "kmeans.fit(X)\n",
    "\n",
    "# Get predicted cluster label for each point\n",
    "y_kmeans = kmeans.predict(X)\n",
    "\n",
    "\n",
    "# Plot the clustering result\n",
    "plt.scatter(X[:, 0], X[:, 1], c=y_kmeans, cmap='viridis')"
   ]
  },
  {
   "cell_type": "markdown",
   "id": "2e7e0970",
   "metadata": {},
   "source": [
    "#### Step 2: Let's figure out the best value for *K*"
   ]
  },
  {
   "cell_type": "code",
   "execution_count": null,
   "id": "4c3d5705",
   "metadata": {},
   "outputs": [],
   "source": [
    "from sklearn.cluster import KMeans\n",
    "\n",
    "# Record the Total Intra-Cluster Variation\n",
    "ticv = [] \n",
    "\n",
    "for k in range(1,11): \n",
    "    kmeans = KMeans(n_clusters=k, n_init=20)\n",
    "\n",
    "    # Fit kmeans algorithm to the X dataset\n",
    "    kmeans.fit(X)\n",
    "\n",
    "    # Record the Total Intra-Cluster Variation for K=k\n",
    "    ticv.append(kmeans.inertia_)\n",
    "    \n",
    "\n",
    "# Plot the elbow graph\n",
    "plt.plot(range(1,11),ticv)\n",
    "plt.xlabel('Number of Clusters (K)')\n",
    "plt.ylabel('Total Intra-Cluster Variation')\n",
    "plt.show()"
   ]
  },
  {
   "cell_type": "markdown",
   "id": "c576a49c",
   "metadata": {},
   "source": [
    "#### Step 3: Run the *K*-Means with the best value *K* = 4"
   ]
  },
  {
   "cell_type": "code",
   "execution_count": null,
   "id": "fc59e640",
   "metadata": {},
   "outputs": [],
   "source": [
    "kmeans = KMeans(n_clusters=4, n_init=20)\n",
    "\n",
    "kmeans.fit(X)\n",
    "\n",
    "# Get predicted cluster label for each point\n",
    "y_kmeans = kmeans.predict(X)\n",
    "\n",
    "# Get the centers of the predicted clusters\n",
    "centers = kmeans.cluster_centers_\n",
    "\n",
    "# Plot the clustering result\n",
    "plt.scatter(X[:, 0], X[:, 1], c=y_kmeans, cmap='viridis')\n",
    "plt.scatter(centers[:, 0], centers[:, 1], c='black', s=200, alpha=0.5);"
   ]
  }
 ],
 "metadata": {
  "kernelspec": {
   "display_name": "Python 3 (ipykernel)",
   "language": "python",
   "name": "python3"
  },
  "language_info": {
   "codemirror_mode": {
    "name": "ipython",
    "version": 3
   },
   "file_extension": ".py",
   "mimetype": "text/x-python",
   "name": "python",
   "nbconvert_exporter": "python",
   "pygments_lexer": "ipython3",
   "version": "3.9.12"
  }
 },
 "nbformat": 4,
 "nbformat_minor": 5
}
