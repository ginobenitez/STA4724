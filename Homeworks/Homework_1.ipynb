{
  "cells": [
    {
      "cell_type": "markdown",
      "id": "724fd47d",
      "metadata": {
        "id": "724fd47d"
      },
      "source": [
        "## STA 4724: Homework 1 - Due Friday, Sep. 12\n",
        "**Instructions**: Finsih the assign by directly answering the question or finishing the code in this Jupyter notebook.\n",
        "\n",
        "After you finish, submit the saved notebook to webcourses."
      ]
    },
    {
      "cell_type": "markdown",
      "id": "b28770c6",
      "metadata": {
        "id": "b28770c6"
      },
      "source": [
        "**Your name: Gino Benitez**                     \n",
        "\n",
        "**Your ID: 5110519**"
      ]
    },
    {
      "cell_type": "markdown",
      "id": "4e1f7ada",
      "metadata": {
        "id": "4e1f7ada"
      },
      "source": [
        "## Question 1\n",
        "Write a function $\\mathtt{largerIndex}(c)$ that takes as input a list $c$ of numbers, and returns a new list $k$, such that $k[i] = 1$ if $c[i] > i$, $k[i] = 0$ if $c[i] = i$, $k[i] = -1$ if $c[i] < i$.\n",
        "\n"
      ]
    },
    {
      "cell_type": "markdown",
      "id": "6b792a5f",
      "metadata": {
        "id": "6b792a5f"
      },
      "source": [
        "*Sample test cases*:\n",
        "\n",
        "$l1 = [1,2,0,4,2,1,40,-5]$\n",
        "\n",
        "$l2 = [0,3,2,1,32,3,4,0]$\n",
        "\n",
        "$\\mathtt{largerIndex}(l1)$ should return $[1, 1, -1, 1, -1, -1, 1, -1]$.\n",
        "\n",
        "$\\mathtt{largerIndex}(l2)$ should return $[0, 1, 0, -1, 1, -1, -1, -1]$.\n"
      ]
    },
    {
      "cell_type": "code",
      "execution_count": 1,
      "id": "f4c42d46",
      "metadata": {
        "colab": {
          "base_uri": "https://localhost:8080/"
        },
        "id": "f4c42d46",
        "outputId": "73a2c930-9440-478f-ef08-b78691524eff"
      },
      "outputs": [
        {
          "data": {
            "text/plain": [
              "[0, 1, 0, -1, 1, -1, -1, -1]"
            ]
          },
          "execution_count": 1,
          "metadata": {},
          "output_type": "execute_result"
        }
      ],
      "source": [
        "def largerIndex(c):\n",
        "    k = [0] * len(c)\n",
        "\n",
        "    for i in range(len(c)):\n",
        "        if c[i] > i:\n",
        "           k[i] = 1\n",
        "        elif c[i] < i:\n",
        "           k[i] = -1\n",
        "        else:\n",
        "            continue\n",
        "    return k\n",
        "arr = [0,3,2,1,32,3,4,0]\n",
        "largerIndex(arr)"
      ]
    },
    {
      "cell_type": "markdown",
      "id": "26988db5",
      "metadata": {
        "id": "26988db5"
      },
      "source": [
        "## Question 2\n",
        "Write a function $\\mathtt{squareUpTo}(n)$ that takes as input a positive integer $n$, and returns a list of all the square numbers\n",
        "up to (and possibly including) $n$."
      ]
    },
    {
      "cell_type": "markdown",
      "id": "454df099",
      "metadata": {
        "id": "454df099"
      },
      "source": [
        "*Sample test cases*:\n",
        "\n",
        "$\\mathtt{squareUpTo}(10)$ should return $[0, 1, 4, 9].$\n",
        "\n",
        "$\\mathtt{squareUpTo}(100)$ should return $[0, 1, 4, 9, 16, 25, 36, 49, 64, 81, 100]$."
      ]
    },
    {
      "cell_type": "code",
      "execution_count": 2,
      "id": "42e77179",
      "metadata": {
        "colab": {
          "base_uri": "https://localhost:8080/"
        },
        "id": "42e77179",
        "outputId": "29339382-42cb-49bf-b2fd-bc74c2e3c859"
      },
      "outputs": [
        {
          "data": {
            "text/plain": [
              "[0, 1, 4, 9, 16, 25, 36, 49, 64, 81, 100]"
            ]
          },
          "execution_count": 2,
          "metadata": {},
          "output_type": "execute_result"
        }
      ],
      "source": [
        "def squareUpTo(n):\n",
        "    square = number = 0\n",
        "    res = []\n",
        "    while square <= n:\n",
        "        square = number * number\n",
        "        if square <= n:\n",
        "            res.append(square)\n",
        "            number +=1\n",
        "    return res\n",
        "\n",
        "squareUpTo(100)"
      ]
    },
    {
      "cell_type": "markdown",
      "id": "93113a94",
      "metadata": {
        "id": "93113a94"
      },
      "source": [
        "## Question 3\n",
        "Write a function $\\mathtt{flip1in3}()$ that uses only \"fair coins\" to generate a \"biased coin\" with success probability $\\frac{1}{3}$. That is, this function returns **False** with probability $\\frac{2}{3}$ and returns **True** with probability $\\frac{1}{3}$. To simulate a \"fair coin\", use $\\mathtt{random.randint(0,1)}$.\n",
        "\n",
        "Check https://en.wikipedia.org/wiki/Fair_coin for the terms \"fair coin\" and \"biased coin\" if you are not familiar with the terms."
      ]
    },
    {
      "cell_type": "code",
      "execution_count": 3,
      "id": "67101e6e",
      "metadata": {
        "colab": {
          "base_uri": "https://localhost:8080/"
        },
        "id": "67101e6e",
        "outputId": "3509e359-2458-4efa-d096-d668df367bc3"
      },
      "outputs": [
        {
          "data": {
            "text/plain": [
              "True"
            ]
          },
          "execution_count": 3,
          "metadata": {},
          "output_type": "execute_result"
        }
      ],
      "source": [
        "import random as rand\n",
        "def flip1in3():\n",
        "    coin_flip_a = 0\n",
        "    coin_flip_b = 1\n",
        "\n",
        "    while coin_flip_a == 0 and coin_flip_b == 1:\n",
        "        coin_flip_a = rand.randint(0,1) * 1\n",
        "        coin_flip_b = rand.randint(0,1) * 1\n",
        "\n",
        "    return bool(coin_flip_a and coin_flip_b)\n",
        "flip1in3()"
      ]
    },
    {
      "cell_type": "markdown",
      "id": "c1212739",
      "metadata": {
        "id": "c1212739"
      },
      "source": [
        "## Question 4\n",
        "\n",
        "Write a function $\\mathtt{duplicates}(c)$ that takes as input a list $c$ of integers. Some elements appear twice and others appear once. The function outputs all the elements as a list that appear twice in the list $c$. The elements in the output should preserve the original order.\n"
      ]
    },
    {
      "cell_type": "markdown",
      "id": "f77ed429",
      "metadata": {
        "id": "f77ed429"
      },
      "source": [
        "*Sample test cases*:\n",
        "\n",
        "$l3 = [1,2,5,3,6,2,4,5]$\n",
        "\n",
        "$l4 = [1,3,5,5,1,4,3]$\n",
        "\n",
        "$\\mathtt{duplicates}(l3)$ should return $[2,5]$.\n",
        "\n",
        "$\\mathtt{duplicates}(l4)$ should return $[1,3,5]$."
      ]
    },
    {
      "cell_type": "code",
      "execution_count": 4,
      "id": "12907ab7",
      "metadata": {
        "colab": {
          "base_uri": "https://localhost:8080/"
        },
        "id": "12907ab7",
        "outputId": "fb5229e2-3c53-4198-d1ba-f34ac2cd2438"
      },
      "outputs": [
        {
          "data": {
            "text/plain": [
              "[2, 5]"
            ]
          },
          "execution_count": 4,
          "metadata": {},
          "output_type": "execute_result"
        }
      ],
      "source": [
        "def duplicates(c):\n",
        "    dupes = set()\n",
        "    res = []\n",
        "    for number in c:\n",
        "        if number not in dupes:\n",
        "            dupes.add(number)\n",
        "        else:\n",
        "            res.append(number)\n",
        "    return res\n",
        "\n",
        "arr = [1,2,5,3,6,2,4,5]\n",
        "duplicates(arr)"
      ]
    }
  ],
  "metadata": {
    "colab": {
      "provenance": []
    },
    "kernelspec": {
      "display_name": "Python 3 (ipykernel)",
      "language": "python",
      "name": "python3"
    },
    "language_info": {
      "codemirror_mode": {
        "name": "ipython",
        "version": 3
      },
      "file_extension": ".py",
      "mimetype": "text/x-python",
      "name": "python",
      "nbconvert_exporter": "python",
      "pygments_lexer": "ipython3",
      "version": "3.13.5"
    }
  },
  "nbformat": 4,
  "nbformat_minor": 5
}
